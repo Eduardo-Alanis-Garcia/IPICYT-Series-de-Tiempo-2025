{
 "cells": [
  {
   "cell_type": "markdown",
   "id": "b9926582",
   "metadata": {},
   "source": [
    "# 7 de julio"
   ]
  },
  {
   "cell_type": "code",
   "execution_count": 1,
   "id": "9d3a2199",
   "metadata": {},
   "outputs": [],
   "source": [
    "import matplotlib\n",
    "import numpy\n",
    "from matplotlib import pyplot as plt\n",
    "from numpy import random\n",
    "import numpy as np\n"
   ]
  },
  {
   "cell_type": "code",
   "execution_count": 2,
   "id": "cbb13813",
   "metadata": {},
   "outputs": [],
   "source": [
    "S = [0, 1]     # Estados \n",
    "Q = [[0.5, 0.5], [0.5, 0.5]]   # Matriz de transicion\n",
    "pi0  = [0.5, 0.5]  # Distribucion inicial\n"
   ]
  },
  {
   "cell_type": "code",
   "execution_count": 3,
   "id": "ec14199f",
   "metadata": {},
   "outputs": [],
   "source": [
    "### Evolucion de la cadena de Markov\n",
    "x = np.random.choice(S, p=pi0)  # Estado inicial\n",
    "X = []\n",
    "for t in range(100):\n",
    "    x = np.random.choice(S, p=Q[x])\n",
    "    X.append(x)\n",
    "    \n"
   ]
  },
  {
   "cell_type": "code",
   "execution_count": 4,
   "id": "c4ed5c7c",
   "metadata": {},
   "outputs": [
    {
     "name": "stdout",
     "output_type": "stream",
     "text": [
      "[np.int64(0), np.int64(0), np.int64(0), np.int64(1), np.int64(1), np.int64(0), np.int64(0), np.int64(0), np.int64(0), np.int64(1), np.int64(1), np.int64(0), np.int64(0), np.int64(1), np.int64(1), np.int64(1), np.int64(0), np.int64(0), np.int64(1), np.int64(1), np.int64(0), np.int64(1), np.int64(0), np.int64(1), np.int64(0), np.int64(0), np.int64(1), np.int64(0), np.int64(0), np.int64(0), np.int64(1), np.int64(1), np.int64(0), np.int64(0), np.int64(1), np.int64(0), np.int64(1), np.int64(1), np.int64(1), np.int64(1), np.int64(1), np.int64(0), np.int64(1), np.int64(1), np.int64(1), np.int64(0), np.int64(1), np.int64(1), np.int64(0), np.int64(0), np.int64(1), np.int64(0), np.int64(1), np.int64(0), np.int64(0), np.int64(1), np.int64(0), np.int64(1), np.int64(1), np.int64(1), np.int64(1), np.int64(0), np.int64(1), np.int64(1), np.int64(0), np.int64(1), np.int64(1), np.int64(1), np.int64(0), np.int64(0), np.int64(0), np.int64(0), np.int64(1), np.int64(0), np.int64(1), np.int64(1), np.int64(1), np.int64(1), np.int64(1), np.int64(1), np.int64(1), np.int64(1), np.int64(0), np.int64(1), np.int64(1), np.int64(0), np.int64(1), np.int64(1), np.int64(0), np.int64(1), np.int64(1), np.int64(1), np.int64(1), np.int64(0), np.int64(1), np.int64(1), np.int64(0), np.int64(1), np.int64(0), np.int64(0)]\n"
     ]
    }
   ],
   "source": [
    "print(X)"
   ]
  },
  {
   "cell_type": "code",
   "execution_count": 15,
   "id": "a84fa1b8",
   "metadata": {},
   "outputs": [
    {
     "name": "stdout",
     "output_type": "stream",
     "text": [
      "Cantidad de 0: 42\n",
      "Cantidad de 1: 58\n"
     ]
    }
   ],
   "source": [
    "contar_0 = 0\n",
    "contar_1 = 0\n",
    "for i in range(len(X)):\n",
    "    if X[i] == 0:\n",
    "        contar_0 += 1\n",
    "    else:\n",
    "        contar_1 += 1\n",
    "\n",
    "\n",
    "\n",
    "print(\"Cantidad de 0:\", contar_0)\n",
    "print(\"Cantidad de 1:\", contar_1)"
   ]
  },
  {
   "cell_type": "code",
   "execution_count": null,
   "id": "9b04e9f3",
   "metadata": {},
   "outputs": [
    {
     "name": "stdout",
     "output_type": "stream",
     "text": [
      "[0 0 0 1 1 1 0 0 1 0 1 1 0 1 0 1 0 1 0 1 0 1 0 0 1 1 1 1 1 0 0 0 0 1 1 0 1\n",
      " 1 0 0 1 1 0 1 1 1 0 1 0 0 0 1 0 0 0 0 0 0 0 0 0 1 0 1 0 1 0 1 0 0 0 0 1 0\n",
      " 1 0 1 0 0 1 1 1 1 0 1 1 0 1 0 0 1 1 1 1 1 0 1 0 0 1]\n",
      "Cantidad de 0: 52 \n",
      " Es decir 52.0 %\n",
      "Cantidad de 1: 48 \n",
      " Es decir 48.0 %\n"
     ]
    }
   ],
   "source": [
    "x = np.random.choice(S, p=pi0)  # Estado inicial\n",
    "X = []\n",
    "contar_0 = 0\n",
    "contar_1 = 0\n",
    "for t in range(100):\n",
    "    x = np.random.choice(S, p=Q[x])\n",
    "    X.append(x)\n",
    "    if x == 0:\n",
    "        contar_0 += 1\n",
    "    else:\n",
    "        contar_1 += 1\n",
    "\n",
    "\n",
    "X = np.asarray(X)\n",
    "\n",
    "print(X)\n",
    "print(\"Cantidad de 0:\", contar_0, \"Es decir\", contar_0/len(X) * 100, \"%\")\n",
    "print(\"Cantidad de 1:\", contar_1, \"Es decir\", contar_1/len(X) * 100, \"%\")\n"
   ]
  },
  {
   "cell_type": "code",
   "execution_count": 5,
   "id": "8f9bdc15",
   "metadata": {},
   "outputs": [
    {
     "name": "stdout",
     "output_type": "stream",
     "text": [
      "[1 2 0 ... 0 1 2]\n",
      "Cantidad de 0: 33719 Es decir 33.719 %\n",
      "Cantidad de 1: 32951 Es decir 32.951 %\n",
      "Cantidad de 2: 33330 Es decir 33.33 %\n"
     ]
    }
   ],
   "source": [
    "S = [0, 1, 2]     # Estados\n",
    "Q = [[1/3, 1/3, 1/3], [1/3, 1/3, 1/3], [1/3, 1/3, 1/3]]  # Matriz de transicion\n",
    "pi0  = [0, 0, 1]  # Distribucion inicial\n",
    "\n",
    "x = np.random.choice(S, p=pi0)  # Estado inicial\n",
    "X = []\n",
    "contar_0 = 0\n",
    "contar_1 = 0\n",
    "contar_2 = 0\n",
    "for i in range(100000):\n",
    "    x = np.random.choice(S, p=Q[x])\n",
    "    X.append(x)\n",
    "    if x == 0:\n",
    "        contar_0 += 1\n",
    "    elif x == 1:\n",
    "        contar_1 += 1\n",
    "    else:\n",
    "        contar_2 += 1\n",
    "X = np.asarray(X)\n",
    "print(X)\n",
    "print(\"Cantidad de 0:\", contar_0, \"Es decir\", contar_0/len(X) * 100, \"%\")\n",
    "print(\"Cantidad de 1:\", contar_1, \"Es decir\", contar_1/len(X) * 100, \"%\")\n",
    "print(\"Cantidad de 2:\", contar_2, \"Es decir\", contar_2/len(X) * 100, \"%\")\n"
   ]
  },
  {
   "cell_type": "code",
   "execution_count": 9,
   "id": "df2f2262",
   "metadata": {},
   "outputs": [
    {
     "data": {
      "image/png": "[encoded data removed]",
      "text/plain": [
       "<Figure size 640x480 with 1 Axes>"
      ]
     },
     "metadata": {},
     "output_type": "display_data"
    }
   ],
   "source": [
    "import matplotlib.pyplot as plt\n",
    "plt.hist(X)\n",
    "plt.show()"
   ]
  }
 ],
 "metadata": {
  "kernelspec": {
   "display_name": "Python 3",
   "language": "python",
   "name": "python3"
  },
  "language_info": {
   "codemirror_mode": {
    "name": "ipython",
    "version": 3
   },
   "file_extension": ".py",
   "mimetype": "text/x-python",
   "name": "python",
   "nbconvert_exporter": "python",
   "pygments_lexer": "ipython3",
   "version": "3.13.0"
  }
 },
 "nbformat": 4,
 "nbformat_minor": 5
}
