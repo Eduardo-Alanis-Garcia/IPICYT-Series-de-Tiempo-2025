{
 "cells": [
  {
   "cell_type": "code",
   "execution_count": 3,
   "id": "db5ff12c",
   "metadata": {},
   "outputs": [],
   "source": [
    "import pandas                   as pd\n",
    "import numpy                    as np\n",
    "import matplotlib.pyplot        as plt\n",
    "from   statsmodels.tsa.seasonal import seasonal_decompose"
   ]
  },
  {
   "cell_type": "code",
   "execution_count": 4,
   "id": "1aed352b",
   "metadata": {},
   "outputs": [
    {
     "data": {
      "text/html": [
       "<div>\n",
       "<style scoped>\n",
       "    .dataframe tbody tr th:only-of-type {\n",
       "        vertical-align: middle;\n",
       "    }\n",
       "\n",
       "    .dataframe tbody tr th {\n",
       "        vertical-align: top;\n",
       "    }\n",
       "\n",
       "    .dataframe thead th {\n",
       "        text-align: right;\n",
       "    }\n",
       "</style>\n",
       "<table border=\"1\" class=\"dataframe\">\n",
       "  <thead>\n",
       "    <tr style=\"text-align: right;\">\n",
       "      <th></th>\n",
       "      <th>FECHA</th>\n",
       "      <th>Unnamed: 1</th>\n",
       "      <th>PRECIP</th>\n",
       "      <th>EVAP</th>\n",
       "      <th>TMAX</th>\n",
       "      <th>TMIN</th>\n",
       "    </tr>\n",
       "  </thead>\n",
       "  <tbody>\n",
       "    <tr>\n",
       "      <th>0</th>\n",
       "      <td>1966-03-01</td>\n",
       "      <td>0</td>\n",
       "      <td>NULO</td>\n",
       "      <td>23</td>\n",
       "      <td>3</td>\n",
       "      <td>NaN</td>\n",
       "    </tr>\n",
       "    <tr>\n",
       "      <th>1</th>\n",
       "      <td>1966-03-02</td>\n",
       "      <td>0</td>\n",
       "      <td>NULO</td>\n",
       "      <td>24</td>\n",
       "      <td>10</td>\n",
       "      <td>NaN</td>\n",
       "    </tr>\n",
       "    <tr>\n",
       "      <th>2</th>\n",
       "      <td>1966-03-03</td>\n",
       "      <td>0</td>\n",
       "      <td>NULO</td>\n",
       "      <td>24</td>\n",
       "      <td>9</td>\n",
       "      <td>NaN</td>\n",
       "    </tr>\n",
       "    <tr>\n",
       "      <th>3</th>\n",
       "      <td>1966-03-04</td>\n",
       "      <td>0</td>\n",
       "      <td>NULO</td>\n",
       "      <td>19</td>\n",
       "      <td>12</td>\n",
       "      <td>NaN</td>\n",
       "    </tr>\n",
       "    <tr>\n",
       "      <th>4</th>\n",
       "      <td>1966-03-05</td>\n",
       "      <td>0</td>\n",
       "      <td>NULO</td>\n",
       "      <td>19.5</td>\n",
       "      <td>5</td>\n",
       "      <td>NaN</td>\n",
       "    </tr>\n",
       "  </tbody>\n",
       "</table>\n",
       "</div>"
      ],
      "text/plain": [
       "        FECHA Unnamed: 1 PRECIP  EVAP TMAX  TMIN\n",
       "0  1966-03-01          0   NULO    23    3   NaN\n",
       "1  1966-03-02          0   NULO    24   10   NaN\n",
       "2  1966-03-03          0   NULO    24    9   NaN\n",
       "3  1966-03-04          0   NULO    19   12   NaN\n",
       "4  1966-03-05          0   NULO  19.5    5   NaN"
      ]
     },
     "execution_count": 4,
     "metadata": {},
     "output_type": "execute_result"
    }
   ],
   "source": [
    "\n",
    "file_id = \"17iCHWJF4gU0litHn0ZGnKS8hbTsOXE39\"\n",
    "download_url = f'https://drive.google.com/uc?export=download&id={file_id}'\n",
    "\n",
    "TabData  = pd.read_csv(download_url,sep=\"\\t\")\n",
    "TabData.head()\n"
   ]
  },
  {
   "cell_type": "code",
   "execution_count": 9,
   "id": "455e132b",
   "metadata": {},
   "outputs": [
    {
     "data": {
      "text/html": [
       "<div>\n",
       "<style scoped>\n",
       "    .dataframe tbody tr th:only-of-type {\n",
       "        vertical-align: middle;\n",
       "    }\n",
       "\n",
       "    .dataframe tbody tr th {\n",
       "        vertical-align: top;\n",
       "    }\n",
       "\n",
       "    .dataframe thead th {\n",
       "        text-align: right;\n",
       "    }\n",
       "</style>\n",
       "<table border=\"1\" class=\"dataframe\">\n",
       "  <thead>\n",
       "    <tr style=\"text-align: right;\">\n",
       "      <th></th>\n",
       "      <th>Fecha</th>\n",
       "      <th>Nada</th>\n",
       "      <th>Prec</th>\n",
       "      <th>Evap</th>\n",
       "      <th>TMax</th>\n",
       "      <th>TMin</th>\n",
       "    </tr>\n",
       "  </thead>\n",
       "  <tbody>\n",
       "    <tr>\n",
       "      <th>0</th>\n",
       "      <td>1966-03-01</td>\n",
       "      <td>0</td>\n",
       "      <td>NULO</td>\n",
       "      <td>23</td>\n",
       "      <td>3</td>\n",
       "      <td>NaN</td>\n",
       "    </tr>\n",
       "    <tr>\n",
       "      <th>1</th>\n",
       "      <td>1966-03-02</td>\n",
       "      <td>0</td>\n",
       "      <td>NULO</td>\n",
       "      <td>24</td>\n",
       "      <td>10</td>\n",
       "      <td>NaN</td>\n",
       "    </tr>\n",
       "    <tr>\n",
       "      <th>2</th>\n",
       "      <td>1966-03-03</td>\n",
       "      <td>0</td>\n",
       "      <td>NULO</td>\n",
       "      <td>24</td>\n",
       "      <td>9</td>\n",
       "      <td>NaN</td>\n",
       "    </tr>\n",
       "    <tr>\n",
       "      <th>3</th>\n",
       "      <td>1966-03-04</td>\n",
       "      <td>0</td>\n",
       "      <td>NULO</td>\n",
       "      <td>19</td>\n",
       "      <td>12</td>\n",
       "      <td>NaN</td>\n",
       "    </tr>\n",
       "    <tr>\n",
       "      <th>4</th>\n",
       "      <td>1966-03-05</td>\n",
       "      <td>0</td>\n",
       "      <td>NULO</td>\n",
       "      <td>19.5</td>\n",
       "      <td>5</td>\n",
       "      <td>NaN</td>\n",
       "    </tr>\n",
       "  </tbody>\n",
       "</table>\n",
       "</div>"
      ],
      "text/plain": [
       "        Fecha Nada  Prec  Evap TMax  TMin\n",
       "0  1966-03-01    0  NULO    23    3   NaN\n",
       "1  1966-03-02    0  NULO    24   10   NaN\n",
       "2  1966-03-03    0  NULO    24    9   NaN\n",
       "3  1966-03-04    0  NULO    19   12   NaN\n",
       "4  1966-03-05    0  NULO  19.5    5   NaN"
      ]
     },
     "execution_count": 9,
     "metadata": {},
     "output_type": "execute_result"
    }
   ],
   "source": [
    "TabData.columns = [\"Fecha\", \"Nada\", \"Prec\", \"Evap\", \"TMax\", \"TMin\"]\n",
    "TabData.head()"
   ]
  },
  {
   "cell_type": "code",
   "execution_count": 10,
   "id": "f7460f2f",
   "metadata": {},
   "outputs": [
    {
     "data": {
      "text/html": [
       "<div>\n",
       "<style scoped>\n",
       "    .dataframe tbody tr th:only-of-type {\n",
       "        vertical-align: middle;\n",
       "    }\n",
       "\n",
       "    .dataframe tbody tr th {\n",
       "        vertical-align: top;\n",
       "    }\n",
       "\n",
       "    .dataframe thead th {\n",
       "        text-align: right;\n",
       "    }\n",
       "</style>\n",
       "<table border=\"1\" class=\"dataframe\">\n",
       "  <thead>\n",
       "    <tr style=\"text-align: right;\">\n",
       "      <th></th>\n",
       "      <th>Nada</th>\n",
       "      <th>Prec</th>\n",
       "      <th>Evap</th>\n",
       "      <th>TMax</th>\n",
       "      <th>TMin</th>\n",
       "    </tr>\n",
       "    <tr>\n",
       "      <th>Fecha</th>\n",
       "      <th></th>\n",
       "      <th></th>\n",
       "      <th></th>\n",
       "      <th></th>\n",
       "      <th></th>\n",
       "    </tr>\n",
       "  </thead>\n",
       "  <tbody>\n",
       "    <tr>\n",
       "      <th>1966-03-01</th>\n",
       "      <td>0</td>\n",
       "      <td>NULO</td>\n",
       "      <td>23</td>\n",
       "      <td>3</td>\n",
       "      <td>NaN</td>\n",
       "    </tr>\n",
       "    <tr>\n",
       "      <th>1966-03-02</th>\n",
       "      <td>0</td>\n",
       "      <td>NULO</td>\n",
       "      <td>24</td>\n",
       "      <td>10</td>\n",
       "      <td>NaN</td>\n",
       "    </tr>\n",
       "    <tr>\n",
       "      <th>1966-03-03</th>\n",
       "      <td>0</td>\n",
       "      <td>NULO</td>\n",
       "      <td>24</td>\n",
       "      <td>9</td>\n",
       "      <td>NaN</td>\n",
       "    </tr>\n",
       "    <tr>\n",
       "      <th>1966-03-04</th>\n",
       "      <td>0</td>\n",
       "      <td>NULO</td>\n",
       "      <td>19</td>\n",
       "      <td>12</td>\n",
       "      <td>NaN</td>\n",
       "    </tr>\n",
       "    <tr>\n",
       "      <th>1966-03-05</th>\n",
       "      <td>0</td>\n",
       "      <td>NULO</td>\n",
       "      <td>19.5</td>\n",
       "      <td>5</td>\n",
       "      <td>NaN</td>\n",
       "    </tr>\n",
       "    <tr>\n",
       "      <th>...</th>\n",
       "      <td>...</td>\n",
       "      <td>...</td>\n",
       "      <td>...</td>\n",
       "      <td>...</td>\n",
       "      <td>...</td>\n",
       "    </tr>\n",
       "    <tr>\n",
       "      <th>2024-08-27</th>\n",
       "      <td>0</td>\n",
       "      <td>5.88</td>\n",
       "      <td>27.4</td>\n",
       "      <td>11.3</td>\n",
       "      <td>NaN</td>\n",
       "    </tr>\n",
       "    <tr>\n",
       "      <th>2024-08-28</th>\n",
       "      <td>0</td>\n",
       "      <td>3.85</td>\n",
       "      <td>29</td>\n",
       "      <td>12.6</td>\n",
       "      <td>NaN</td>\n",
       "    </tr>\n",
       "    <tr>\n",
       "      <th>2024-08-29</th>\n",
       "      <td>0</td>\n",
       "      <td>4</td>\n",
       "      <td>30</td>\n",
       "      <td>14</td>\n",
       "      <td>NaN</td>\n",
       "    </tr>\n",
       "    <tr>\n",
       "      <th>2024-08-30</th>\n",
       "      <td>0</td>\n",
       "      <td>5.45</td>\n",
       "      <td>31</td>\n",
       "      <td>14.5</td>\n",
       "      <td>NaN</td>\n",
       "    </tr>\n",
       "    <tr>\n",
       "      <th>2024-08-31</th>\n",
       "      <td>0</td>\n",
       "      <td>NULO</td>\n",
       "      <td>31.2</td>\n",
       "      <td>13.2</td>\n",
       "      <td>NaN</td>\n",
       "    </tr>\n",
       "  </tbody>\n",
       "</table>\n",
       "<p>15704 rows × 5 columns</p>\n",
       "</div>"
      ],
      "text/plain": [
       "           Nada  Prec  Evap  TMax  TMin\n",
       "Fecha                                  \n",
       "1966-03-01    0  NULO    23     3   NaN\n",
       "1966-03-02    0  NULO    24    10   NaN\n",
       "1966-03-03    0  NULO    24     9   NaN\n",
       "1966-03-04    0  NULO    19    12   NaN\n",
       "1966-03-05    0  NULO  19.5     5   NaN\n",
       "...         ...   ...   ...   ...   ...\n",
       "2024-08-27    0  5.88  27.4  11.3   NaN\n",
       "2024-08-28    0  3.85    29  12.6   NaN\n",
       "2024-08-29    0     4    30    14   NaN\n",
       "2024-08-30    0  5.45    31  14.5   NaN\n",
       "2024-08-31    0  NULO  31.2  13.2   NaN\n",
       "\n",
       "[15704 rows x 5 columns]"
      ]
     },
     "execution_count": 10,
     "metadata": {},
     "output_type": "execute_result"
    }
   ],
   "source": [
    "TabData[\"Fecha\"] = pd.to_datetime(TabData[\"Fecha\"])\n",
    "TabData.set_index(\"Fecha\")"
   ]
  },
  {
   "cell_type": "code",
   "execution_count": 16,
   "id": "5997d5aa",
   "metadata": {},
   "outputs": [
    {
     "data": {
      "text/html": [
       "<div>\n",
       "<style scoped>\n",
       "    .dataframe tbody tr th:only-of-type {\n",
       "        vertical-align: middle;\n",
       "    }\n",
       "\n",
       "    .dataframe tbody tr th {\n",
       "        vertical-align: top;\n",
       "    }\n",
       "\n",
       "    .dataframe thead th {\n",
       "        text-align: right;\n",
       "    }\n",
       "</style>\n",
       "<table border=\"1\" class=\"dataframe\">\n",
       "  <thead>\n",
       "    <tr style=\"text-align: right;\">\n",
       "      <th></th>\n",
       "      <th>Fecha</th>\n",
       "      <th>TMax</th>\n",
       "    </tr>\n",
       "  </thead>\n",
       "  <tbody>\n",
       "    <tr>\n",
       "      <th>0</th>\n",
       "      <td>1966-03-01</td>\n",
       "      <td>3</td>\n",
       "    </tr>\n",
       "    <tr>\n",
       "      <th>1</th>\n",
       "      <td>1966-03-02</td>\n",
       "      <td>10</td>\n",
       "    </tr>\n",
       "    <tr>\n",
       "      <th>2</th>\n",
       "      <td>1966-03-03</td>\n",
       "      <td>9</td>\n",
       "    </tr>\n",
       "    <tr>\n",
       "      <th>3</th>\n",
       "      <td>1966-03-04</td>\n",
       "      <td>12</td>\n",
       "    </tr>\n",
       "    <tr>\n",
       "      <th>4</th>\n",
       "      <td>1966-03-05</td>\n",
       "      <td>5</td>\n",
       "    </tr>\n",
       "  </tbody>\n",
       "</table>\n",
       "</div>"
      ],
      "text/plain": [
       "       Fecha TMax\n",
       "0 1966-03-01    3\n",
       "1 1966-03-02   10\n",
       "2 1966-03-03    9\n",
       "3 1966-03-04   12\n",
       "4 1966-03-05    5"
      ]
     },
     "execution_count": 16,
     "metadata": {},
     "output_type": "execute_result"
    }
   ],
   "source": [
    "TabTmax = TabData.drop(columns=[\"Nada\", \"Prec\", \"Evap\", \"TMin\"], axis=1)\n",
    "TabTmax.head()"
   ]
  },
  {
   "cell_type": "code",
   "execution_count": 19,
   "id": "59c5ee7d",
   "metadata": {},
   "outputs": [
    {
     "data": {
      "text/plain": [
       "<bound method DataFrame.dropna of            Fecha  TMax\n",
       "0     1966-03-01   3.0\n",
       "1     1966-03-02  10.0\n",
       "2     1966-03-03   9.0\n",
       "3     1966-03-04  12.0\n",
       "4     1966-03-05   5.0\n",
       "...          ...   ...\n",
       "15699 2024-08-27  11.3\n",
       "15700 2024-08-28  12.6\n",
       "15701 2024-08-29  14.0\n",
       "15702 2024-08-30  14.5\n",
       "15703 2024-08-31  13.2\n",
       "\n",
       "[15704 rows x 2 columns]>"
      ]
     },
     "execution_count": 19,
     "metadata": {},
     "output_type": "execute_result"
    }
   ],
   "source": [
    "TabTmax.TMax = TabData.TMax.replace('NULO', np.nan).astype(float)\n",
    "TabTmax.dropna"
   ]
  },
  {
   "cell_type": "code",
   "execution_count": 20,
   "id": "9b817a9e",
   "metadata": {},
   "outputs": [
    {
     "data": {
      "text/plain": [
       "[<matplotlib.lines.Line2D at 0x24cdb08b250>]"
      ]
     },
     "execution_count": 20,
     "metadata": {},
     "output_type": "execute_result"
    },
    {
     "data": {
      "image/png": "[encoded data removed]",
      "text/plain": [
       "<Figure size 640x480 with 1 Axes>"
      ]
     },
     "metadata": {},
     "output_type": "display_data"
    }
   ],
   "source": [
    "plt.plot(TabData.Fecha, TabTmax.TMax)"
   ]
  },
  {
   "cell_type": "code",
   "execution_count": null,
   "id": "7ee87c8f",
   "metadata": {},
   "outputs": [
    {
     "data": {
      "image/png": "[encoded data removed]",
      "text/plain": [
       "<Figure size 640x480 with 1 Axes>"
      ]
     },
     "metadata": {},
     "output_type": "display_data"
    },
    {
     "data": {
      "text/html": [
       "<div>\n",
       "<style scoped>\n",
       "    .dataframe tbody tr th:only-of-type {\n",
       "        vertical-align: middle;\n",
       "    }\n",
       "\n",
       "    .dataframe tbody tr th {\n",
       "        vertical-align: top;\n",
       "    }\n",
       "\n",
       "    .dataframe thead th {\n",
       "        text-align: right;\n",
       "    }\n",
       "</style>\n",
       "<table border=\"1\" class=\"dataframe\">\n",
       "  <thead>\n",
       "    <tr style=\"text-align: right;\">\n",
       "      <th></th>\n",
       "      <th>Fecha</th>\n",
       "      <th>TMax</th>\n",
       "    </tr>\n",
       "  </thead>\n",
       "  <tbody>\n",
       "    <tr>\n",
       "      <th>12053</th>\n",
       "      <td>2012-06-01</td>\n",
       "      <td>14.0</td>\n",
       "    </tr>\n",
       "    <tr>\n",
       "      <th>12054</th>\n",
       "      <td>2012-06-02</td>\n",
       "      <td>12.0</td>\n",
       "    </tr>\n",
       "    <tr>\n",
       "      <th>12055</th>\n",
       "      <td>2012-06-03</td>\n",
       "      <td>7.8</td>\n",
       "    </tr>\n",
       "    <tr>\n",
       "      <th>12056</th>\n",
       "      <td>2012-06-04</td>\n",
       "      <td>7.0</td>\n",
       "    </tr>\n",
       "    <tr>\n",
       "      <th>12057</th>\n",
       "      <td>2012-06-05</td>\n",
       "      <td>10.0</td>\n",
       "    </tr>\n",
       "  </tbody>\n",
       "</table>\n",
       "</div>"
      ],
      "text/plain": [
       "           Fecha  TMax\n",
       "12053 2012-06-01  14.0\n",
       "12054 2012-06-02  12.0\n",
       "12055 2012-06-03   7.8\n",
       "12056 2012-06-04   7.0\n",
       "12057 2012-06-05  10.0"
      ]
     },
     "execution_count": 31,
     "metadata": {},
     "output_type": "execute_result"
    }
   ],
   "source": [
    "TabTmax.set_index(\"Fecha\")\n",
    "plt.plot(TabTmax.index, TabTmax.TMax)\n",
    "plt.show()\n"
   ]
  },
  {
   "cell_type": "code",
   "execution_count": 23,
   "id": "625281b5",
   "metadata": {},
   "outputs": [
    {
     "name": "stdout",
     "output_type": "stream",
     "text": [
      "2012-06-01 00:00:00 2012-07-31 00:00:00\n"
     ]
    }
   ],
   "source": [
    "from datetime import datetime, timedelta\n",
    "year = 2012\n",
    "fch_ini = datetime.strptime(\"2012-06-01\", \"%Y-%m-%d\")\n",
    "fch_fin = datetime.strptime(\"2012-07-31\", \"%Y-%m-%d\")\n",
    "\n",
    "print(fch_ini, fch_fin)"
   ]
  },
  {
   "cell_type": "code",
   "execution_count": 29,
   "id": "576544ea",
   "metadata": {},
   "outputs": [
    {
     "data": {
      "text/plain": [
       "[<matplotlib.lines.Line2D at 0x24cdeb93d90>]"
      ]
     },
     "execution_count": 29,
     "metadata": {},
     "output_type": "execute_result"
    },
    {
     "data": {
      "image/png": "[encoded data removed]",
      "text/plain": [
       "<Figure size 640x480 with 1 Axes>"
      ]
     },
     "metadata": {},
     "output_type": "display_data"
    }
   ],
   "source": [
    "Datos = TabTmax[(TabTmax['Fecha'] >= fch_ini) & (TabTmax['Fecha'] <= fch_fin)]\n",
    "plt.plot(Datos[\"Fecha\"], Datos[\"TMax\"])\n"
   ]
  },
  {
   "cell_type": "code",
   "execution_count": 32,
   "id": "fc58db3c",
   "metadata": {},
   "outputs": [
    {
     "data": {
      "text/html": [
       "<div>\n",
       "<style scoped>\n",
       "    .dataframe tbody tr th:only-of-type {\n",
       "        vertical-align: middle;\n",
       "    }\n",
       "\n",
       "    .dataframe tbody tr th {\n",
       "        vertical-align: top;\n",
       "    }\n",
       "\n",
       "    .dataframe thead th {\n",
       "        text-align: right;\n",
       "    }\n",
       "</style>\n",
       "<table border=\"1\" class=\"dataframe\">\n",
       "  <thead>\n",
       "    <tr style=\"text-align: right;\">\n",
       "      <th></th>\n",
       "      <th>Fecha</th>\n",
       "      <th>TMax</th>\n",
       "    </tr>\n",
       "  </thead>\n",
       "  <tbody>\n",
       "    <tr>\n",
       "      <th>12053</th>\n",
       "      <td>2012-06-01</td>\n",
       "      <td>14.0</td>\n",
       "    </tr>\n",
       "    <tr>\n",
       "      <th>12054</th>\n",
       "      <td>2012-06-02</td>\n",
       "      <td>12.0</td>\n",
       "    </tr>\n",
       "    <tr>\n",
       "      <th>12055</th>\n",
       "      <td>2012-06-03</td>\n",
       "      <td>7.8</td>\n",
       "    </tr>\n",
       "    <tr>\n",
       "      <th>12056</th>\n",
       "      <td>2012-06-04</td>\n",
       "      <td>7.0</td>\n",
       "    </tr>\n",
       "    <tr>\n",
       "      <th>12057</th>\n",
       "      <td>2012-06-05</td>\n",
       "      <td>10.0</td>\n",
       "    </tr>\n",
       "  </tbody>\n",
       "</table>\n",
       "</div>"
      ],
      "text/plain": [
       "           Fecha  TMax\n",
       "12053 2012-06-01  14.0\n",
       "12054 2012-06-02  12.0\n",
       "12055 2012-06-03   7.8\n",
       "12056 2012-06-04   7.0\n",
       "12057 2012-06-05  10.0"
      ]
     },
     "execution_count": 32,
     "metadata": {},
     "output_type": "execute_result"
    }
   ],
   "source": [
    "\n",
    "Datos.head()"
   ]
  },
  {
   "cell_type": "code",
   "execution_count": 43,
   "id": "5b3512ce",
   "metadata": {},
   "outputs": [
    {
     "data": {
      "image/png": "[encoded data removed]",
      "text/plain": [
       "<Figure size 640x480 with 1 Axes>"
      ]
     },
     "metadata": {},
     "output_type": "display_data"
    }
   ],
   "source": [
    "TempJJ = []\n",
    "for year in range(2012, 2023):\n",
    "    fch_ini = datetime.strptime(f\"{year}-06-01\", \"%Y-%m-%d\")\n",
    "    fch_fin = datetime.strptime(f\"{year}-07-31\", \"%Y-%m-%d\")\n",
    "    Datos = TabTmax[(TabTmax['Fecha'] >= fch_ini) & (TabTmax['Fecha'] <= fch_fin)]\n",
    "    TempJJ.append(np.asarray(Datos))\n",
    "    plt.plot(Datos[\"Fecha\"], Datos[\"TMax\"], label=year)"
   ]
  }
 ],
 "metadata": {
  "kernelspec": {
   "display_name": "Python 3",
   "language": "python",
   "name": "python3"
  },
  "language_info": {
   "codemirror_mode": {
    "name": "ipython",
    "version": 3
   },
   "file_extension": ".py",
   "mimetype": "text/x-python",
   "name": "python",
   "nbconvert_exporter": "python",
   "pygments_lexer": "ipython3",
   "version": "3.13.0"
  }
 },
 "nbformat": 4,
 "nbformat_minor": 5
}
